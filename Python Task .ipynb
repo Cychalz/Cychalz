{
 "cells": [
  {
   "cell_type": "markdown",
   "id": "86f10775",
   "metadata": {},
   "source": [
    "# QUESTION 1\n",
    "Write a Python program to create a tuple with different data types"
   ]
  },
  {
   "cell_type": "code",
   "execution_count": 3,
   "id": "e7a7b756",
   "metadata": {},
   "outputs": [],
   "source": [
    "Tuple=(1,3.5,\"Room 4\")"
   ]
  },
  {
   "cell_type": "code",
   "execution_count": 4,
   "id": "9844f9b3",
   "metadata": {},
   "outputs": [
    {
     "data": {
      "text/plain": [
       "(1, 3.5, 'Room 4')"
      ]
     },
     "execution_count": 4,
     "metadata": {},
     "output_type": "execute_result"
    }
   ],
   "source": [
    "Tuple"
   ]
  },
  {
   "cell_type": "markdown",
   "id": "f72c6507",
   "metadata": {},
   "source": [
    "# QUESTION 2\n",
    "Write a Python program to create a tuple with numbers and print one item"
   ]
  },
  {
   "cell_type": "code",
   "execution_count": 7,
   "id": "57b6e5bc",
   "metadata": {},
   "outputs": [
    {
     "name": "stdout",
     "output_type": "stream",
     "text": [
      "3\n"
     ]
    }
   ],
   "source": [
    "ProgramTuple=(1,2,3,4,5)\n",
    "print (ProgramTuple [2])"
   ]
  },
  {
   "cell_type": "markdown",
   "id": "2ab87783",
   "metadata": {},
   "source": [
    "# QUESTION 3\n",
    "Write a Python program to create a tuple\n"
   ]
  },
  {
   "cell_type": "code",
   "execution_count": 9,
   "id": "af8e5fe5",
   "metadata": {},
   "outputs": [
    {
     "data": {
      "text/plain": [
       "('Room 4', 45, 6.0, True, [0, 1, 2, 3])"
      ]
     },
     "execution_count": 9,
     "metadata": {},
     "output_type": "execute_result"
    }
   ],
   "source": [
    "PythonTuple=(\"Room 4\", 45, 6.0, True, [0, 1, 2, 3])\n",
    "PythonTuple"
   ]
  },
  {
   "cell_type": "markdown",
   "id": "a284833e",
   "metadata": {},
   "source": [
    "# QUESTION 4\n",
    "Write a Python program to convert a tuple to a string"
   ]
  },
  {
   "cell_type": "code",
   "execution_count": 31,
   "id": "db70b970",
   "metadata": {},
   "outputs": [
    {
     "name": "stdout",
     "output_type": "stream",
     "text": [
      "cat dog rat\n",
      "<class 'str'>\n"
     ]
    }
   ],
   "source": [
    "StringTuple= (\"cat\", \"dog\", \"rat\")\n",
    "str= \" \".join(StringTuple)\n",
    "print(str)\n",
    "print(type(str))"
   ]
  },
  {
   "cell_type": "markdown",
   "id": "435c20e8",
   "metadata": {},
   "source": [
    "# QUESTION 5\n",
    "Write a Python script to add a key to a dictionary"
   ]
  },
  {
   "cell_type": "code",
   "execution_count": 38,
   "id": "31165b9a",
   "metadata": {
    "scrolled": true
   },
   "outputs": [
    {
     "data": {
      "text/plain": [
       "{'Colour': ['orange', 'red', 'yellow'],\n",
       " 'int': 12,\n",
       " 'float': 300.45,\n",
       " 'Boolean': False}"
      ]
     },
     "execution_count": 38,
     "metadata": {},
     "output_type": "execute_result"
    }
   ],
   "source": [
    "Dict= {\"Colour\": [\"orange\",\"red\",\"yellow\"], \"int\": 12, \"float\": 300.45, \"Boolean\": False}\n",
    "Dict"
   ]
  },
  {
   "cell_type": "code",
   "execution_count": 42,
   "id": "b5941f97",
   "metadata": {},
   "outputs": [
    {
     "data": {
      "text/plain": [
       "{'Colour': ['orange', 'red', 'yellow'],\n",
       " 'int': 12,\n",
       " 'float': 300.45,\n",
       " 'Boolean': False,\n",
       " 'Age': 50}"
      ]
     },
     "execution_count": 42,
     "metadata": {},
     "output_type": "execute_result"
    }
   ],
   "source": [
    "Dict= {\"Colour\": [\"orange\",\"red\",\"yellow\"], \"int\": 12, \"float\": 300.45, \"Boolean\": False}\n",
    "Dict.update({\"Age\":50 })\n",
    "Dict"
   ]
  },
  {
   "cell_type": "code",
   "execution_count": 44,
   "id": "79b79d47",
   "metadata": {},
   "outputs": [
    {
     "data": {
      "text/plain": [
       "{'Colour': ['orange', 'red', 'yellow'],\n",
       " 'int': 12,\n",
       " 'float': 300.45,\n",
       " 'Boolean': False,\n",
       " 'Group': 'Room 4'}"
      ]
     },
     "execution_count": 44,
     "metadata": {},
     "output_type": "execute_result"
    }
   ],
   "source": [
    "Dict= {\"Colour\": [\"orange\",\"red\",\"yellow\"], \"int\": 12, \"float\": 300.45, \"Boolean\": False}\n",
    "Dict[\"Group\"]=\"Room 4\"\n",
    "Dict"
   ]
  },
  {
   "cell_type": "markdown",
   "id": "ef270198",
   "metadata": {},
   "source": [
    "# QUESTION 6\n",
    "Write a Python script to merge two Python dictionaries"
   ]
  },
  {
   "cell_type": "code",
   "execution_count": 47,
   "id": "445dad2f",
   "metadata": {},
   "outputs": [
    {
     "data": {
      "text/plain": [
       "{'Country': ['Ghana', 'Nigeria', 'Uganda'],\n",
       " 'Capital': ['Accra', 'Abuja', 'Kampala']}"
      ]
     },
     "execution_count": 47,
     "metadata": {},
     "output_type": "execute_result"
    }
   ],
   "source": [
    "Dict1={\"Country\": [\"Ghana\", \"Nigeria\", \"Uganda\"]}\n",
    "Dict2={\"Capital\": [\"Accra\", \"Abuja\", \"Kampala\"]}\n",
    "merged_dict=Dict1|Dict2\n",
    "merged_dict"
   ]
  },
  {
   "cell_type": "code",
   "execution_count": 49,
   "id": "57773b6b",
   "metadata": {},
   "outputs": [
    {
     "data": {
      "text/plain": [
       "{'Country': ['Ghana', 'Nigeria', 'Uganda'],\n",
       " 'Capital': ['Accra', 'Abuja', 'Kampala']}"
      ]
     },
     "execution_count": 49,
     "metadata": {},
     "output_type": "execute_result"
    }
   ],
   "source": [
    "Dict1={\"Country\": [\"Ghana\", \"Nigeria\", \"Uganda\"]}\n",
    "Dict2={\"Capital\": [\"Accra\", \"Abuja\", \"Kampala\"]}\n",
    "Dict1.update(Dict2)\n",
    "Dict1"
   ]
  },
  {
   "cell_type": "markdown",
   "id": "28832abe",
   "metadata": {},
   "source": [
    "# QUESTION 7\n",
    "Write a Python program to sum all the items in a dictionary"
   ]
  },
  {
   "cell_type": "code",
   "execution_count": 61,
   "id": "edd51293",
   "metadata": {},
   "outputs": [
    {
     "data": {
      "text/plain": [
       "16000"
      ]
     },
     "execution_count": 61,
     "metadata": {},
     "output_type": "execute_result"
    }
   ],
   "source": [
    "DictAmount={\"Tomatoes\":4000, \"Pepper\":1000, \"Onions\":1000, \"Chicken\":10000}\n",
    "sum(DictAmount.values())"
   ]
  },
  {
   "cell_type": "code",
   "execution_count": null,
   "id": "33674fd9",
   "metadata": {},
   "outputs": [],
   "source": []
  }
 ],
 "metadata": {
  "kernelspec": {
   "display_name": "Python 3",
   "language": "python",
   "name": "python3"
  },
  "language_info": {
   "codemirror_mode": {
    "name": "ipython",
    "version": 3
   },
   "file_extension": ".py",
   "mimetype": "text/x-python",
   "name": "python",
   "nbconvert_exporter": "python",
   "pygments_lexer": "ipython3",
   "version": "3.8.8"
  }
 },
 "nbformat": 4,
 "nbformat_minor": 5
}
